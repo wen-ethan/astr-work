{
  "nbformat": 4,
  "nbformat_minor": 0,
  "metadata": {
    "colab": {
      "provenance": [],
      "toc_visible": true
    },
    "kernelspec": {
      "name": "python3",
      "display_name": "Python 3"
    },
    "language_info": {
      "name": "python"
    }
  },
  "cells": [
    {
      "cell_type": "markdown",
      "source": [
        "Welcome to the first Python programming lesson! Python is a computer programming language used extensively by astronomers and is useful in many other fields such as data science. In these lessons you will learn how to write Python code that will then get turned into instructions your computer can interpret and execute."
      ],
      "metadata": {
        "id": "AAbop4s0kWNV"
      }
    },
    {
      "cell_type": "markdown",
      "source": [
        "What you are seeing right now is called a Python Notebook and it is being run on the site Google"
      ],
      "metadata": {
        "id": "nP4MTyciF1bO"
      }
    },
    {
      "cell_type": "markdown",
      "source": [
        "The very first line of code most people learn in any language is the Hello World statement. The line of code in the cell below will tell the computer to print out to the screen the characters \"Hello World\". To execute the cell, first click in the cell and then press shift+enter."
      ],
      "metadata": {
        "id": "7YfeQd59ljrq"
      }
    },
    {
      "cell_type": "code",
      "execution_count": null,
      "metadata": {
        "id": "sexBLpJcXxJA",
        "colab": {
          "base_uri": "https://localhost:8080/"
        },
        "outputId": "5044ae0b-a11f-4a54-8a27-973fb93a0ddd"
      },
      "outputs": [
        {
          "output_type": "stream",
          "name": "stdout",
          "text": [
            "Hello World\n"
          ]
        }
      ],
      "source": [
        "print('Hello World')"
      ]
    },
    {
      "cell_type": "markdown",
      "source": [
        "Hooray! It worked! Computers are very picky about how we tell them to do things. For example, if we do not include parenthesis, instead of printing out \"Hello World\" we get a syntax error. (Fun fact, if you ever code in Python 2, this actually will work! But we're using Python 3.)"
      ],
      "metadata": {
        "id": "ro5QoQm3mBnu"
      }
    },
    {
      "cell_type": "code",
      "source": [
        "print 'Hello World'"
      ],
      "metadata": {
        "id": "-LSbNiJEX4qE",
        "colab": {
          "base_uri": "https://localhost:8080/",
          "height": 134
        },
        "outputId": "1ab5dffc-1d60-4d3e-9e4c-1e7a555b3de3"
      },
      "execution_count": null,
      "outputs": [
        {
          "output_type": "error",
          "ename": "SyntaxError",
          "evalue": "ignored",
          "traceback": [
            "\u001b[0;36m  File \u001b[0;32m\"<ipython-input-19-b3b26c9c9123>\"\u001b[0;36m, line \u001b[0;32m1\u001b[0m\n\u001b[0;31m    print 'Hello World'\u001b[0m\n\u001b[0m    ^\u001b[0m\n\u001b[0;31mSyntaxError\u001b[0m\u001b[0;31m:\u001b[0m Missing parentheses in call to 'print'. Did you mean print(...)?\n"
          ]
        }
      ]
    },
    {
      "cell_type": "markdown",
      "source": [
        "Likewise, if you do not include single or double quotes around the words you want printed you will also get a syntax error. Over time you may learn how to interpret these error messages, but for this course I recommend asking one of the instructors or the TA if the error is not obvious to you."
      ],
      "metadata": {
        "id": "ZCSNvUhrmdrV"
      }
    },
    {
      "cell_type": "code",
      "source": [
        "print(Hello World)"
      ],
      "metadata": {
        "id": "-UvSHFWnYQzx",
        "colab": {
          "base_uri": "https://localhost:8080/",
          "height": 134
        },
        "outputId": "d0692d8d-aa51-4206-f8ef-c6aa00cca53f"
      },
      "execution_count": null,
      "outputs": [
        {
          "output_type": "error",
          "ename": "SyntaxError",
          "evalue": "ignored",
          "traceback": [
            "\u001b[0;36m  File \u001b[0;32m\"<ipython-input-20-10cb182148e3>\"\u001b[0;36m, line \u001b[0;32m1\u001b[0m\n\u001b[0;31m    print(Hello World)\u001b[0m\n\u001b[0m          ^\u001b[0m\n\u001b[0;31mSyntaxError\u001b[0m\u001b[0;31m:\u001b[0m invalid syntax. Perhaps you forgot a comma?\n"
          ]
        }
      ]
    },
    {
      "cell_type": "markdown",
      "source": [
        "So what else can we do with the print function? We can print out numbers. Note that numbers should not be in quotes unless you want them part of some text."
      ],
      "metadata": {
        "id": "NRFASoSAnI_U"
      }
    },
    {
      "cell_type": "code",
      "source": [
        "print(1)\n",
        "print('You can include anything in quotes like so: 1,?,%')"
      ],
      "metadata": {
        "id": "2_rKNeiMYZ97",
        "colab": {
          "base_uri": "https://localhost:8080/"
        },
        "outputId": "f9ced97a-6180-4fc0-e4f0-648e71a97ca1"
      },
      "execution_count": null,
      "outputs": [
        {
          "output_type": "stream",
          "name": "stdout",
          "text": [
            "1\n",
            "You can include anything in quotes like so: 1,?,%\n"
          ]
        }
      ]
    },
    {
      "cell_type": "markdown",
      "source": [
        "So now that we can make our computers print out messages, how do we make this useful? Python has basic math included directly in the language. You can do basic addition, subtraction, multiplication, division, and exponentiation with numbers directly like so."
      ],
      "metadata": {
        "id": "q986Q6bVnu6n"
      }
    },
    {
      "cell_type": "code",
      "source": [
        "print(1 + 1)"
      ],
      "metadata": {
        "id": "0xNlVxjQYhM9",
        "colab": {
          "base_uri": "https://localhost:8080/"
        },
        "outputId": "95ee4a13-7ea5-48e3-fbe2-90fa4d703760"
      },
      "execution_count": null,
      "outputs": [
        {
          "output_type": "stream",
          "name": "stdout",
          "text": [
            "2\n"
          ]
        }
      ]
    },
    {
      "cell_type": "markdown",
      "source": [
        "Note that the spaces between the numbers and the plus sign are optional and are there to make the code easier to read. For example, the code below works, but is hard to read. Try to stick to a consistent, easy to understand spacing in your code."
      ],
      "metadata": {
        "id": "N8tKBwU5oVXW"
      }
    },
    {
      "cell_type": "code",
      "source": [
        "print(1+                     1 )"
      ],
      "metadata": {
        "id": "r6o_UAEOYkT0",
        "outputId": "2a2f3d5f-afaa-4337-bf47-4867f8c1e466",
        "colab": {
          "base_uri": "https://localhost:8080/"
        }
      },
      "execution_count": null,
      "outputs": [
        {
          "output_type": "stream",
          "name": "stdout",
          "text": [
            "2\n"
          ]
        }
      ]
    },
    {
      "cell_type": "markdown",
      "source": [
        "Now what happens if we do not want to do all of our math at once or maybe reuse some result? We can use variables to hold values and get those values back in the future. The format for creating a variable is like so:\n",
        "\n",
        "letters_underscores_or_numbers = some_value\n",
        "\n",
        "Note that a variable name must always start with a letter. The following two cells create a variable **x** with the value **3** and then prints out the result of **x + 2**."
      ],
      "metadata": {
        "id": "nhdJDE4oo6Ui"
      }
    },
    {
      "cell_type": "code",
      "source": [
        "x = 3"
      ],
      "metadata": {
        "id": "sflstLR-YoII"
      },
      "execution_count": null,
      "outputs": []
    },
    {
      "cell_type": "code",
      "source": [
        "print(x + 2)"
      ],
      "metadata": {
        "id": "HfN_HKCFY6eE",
        "colab": {
          "base_uri": "https://localhost:8080/"
        },
        "outputId": "883f7603-bbce-480d-ccc6-1a6fa66bc23c"
      },
      "execution_count": null,
      "outputs": [
        {
          "output_type": "stream",
          "name": "stdout",
          "text": [
            "5\n"
          ]
        }
      ]
    },
    {
      "cell_type": "markdown",
      "source": [
        "Taking this one step further, we can create another variable and perform math without any numbers directly in the print statement."
      ],
      "metadata": {
        "id": "61nJgOo6qjuf"
      }
    },
    {
      "cell_type": "code",
      "source": [
        "y = 5\n",
        "print(x - y)"
      ],
      "metadata": {
        "id": "uUuMXT-CY79e",
        "colab": {
          "base_uri": "https://localhost:8080/"
        },
        "outputId": "cc34d86a-de64-40da-956a-506986a5441e"
      },
      "execution_count": null,
      "outputs": [
        {
          "output_type": "stream",
          "name": "stdout",
          "text": [
            "-2\n"
          ]
        }
      ]
    },
    {
      "cell_type": "markdown",
      "source": [
        "Or we can perform some math and store the result in a variable like so:"
      ],
      "metadata": {
        "id": "R8Aw7rhaqvec"
      }
    },
    {
      "cell_type": "code",
      "source": [
        "z = x * y - 4\n",
        "print(z)"
      ],
      "metadata": {
        "id": "QScIbSMSZksB",
        "colab": {
          "base_uri": "https://localhost:8080/"
        },
        "outputId": "f1da907c-acf3-49e9-ea24-70d5072e4b3a"
      },
      "execution_count": null,
      "outputs": [
        {
          "output_type": "stream",
          "name": "stdout",
          "text": [
            "11\n"
          ]
        }
      ]
    },
    {
      "cell_type": "markdown",
      "source": [
        "What happens if a variable **y** is created using the variable **x** and then we change the value of the variable **x**. Before running this code, try to guess what the output of the two print statements will produce."
      ],
      "metadata": {
        "id": "scrNCcSaq92G"
      }
    },
    {
      "cell_type": "code",
      "source": [
        "x = 2\n",
        "y = x + 3\n",
        "print(y)\n",
        "x = 4\n",
        "print(y)"
      ],
      "metadata": {
        "id": "eYTmRbdgZtwG",
        "colab": {
          "base_uri": "https://localhost:8080/"
        },
        "outputId": "63e190fb-0a70-43a6-cd22-a24272f904f1"
      },
      "execution_count": null,
      "outputs": [
        {
          "output_type": "stream",
          "name": "stdout",
          "text": [
            "5\n",
            "5\n"
          ]
        }
      ]
    },
    {
      "cell_type": "markdown",
      "source": [
        "As you can see, changing the value of **x** does not change the value of **y**. To explain, when **y** is created, it takes the result of whatever is on the right and then assigns this to the variable **y**. It does not re-evaluate the statement **x + 3** each time we try to retrieve the value stored in **y**."
      ],
      "metadata": {
        "id": "slluM9czrl0U"
      }
    },
    {
      "cell_type": "markdown",
      "source": [
        "You probably will not use this much in this class, but you can assign strings of characters to variables as well like so:"
      ],
      "metadata": {
        "id": "9Fxof97fsNML"
      }
    },
    {
      "cell_type": "code",
      "source": [
        "hello = 'Hello World'\n",
        "print(hello)"
      ],
      "metadata": {
        "id": "KWyYEcCxY9lJ",
        "colab": {
          "base_uri": "https://localhost:8080/"
        },
        "outputId": "f97fed85-d644-4e1d-857b-8b0673eedff9"
      },
      "execution_count": null,
      "outputs": [
        {
          "output_type": "stream",
          "name": "stdout",
          "text": [
            "Hello World\n"
          ]
        }
      ]
    },
    {
      "cell_type": "markdown",
      "source": [
        "However, if you try to treat the variable **hello** like a number and perform math with it, you will get an error."
      ],
      "metadata": {
        "id": "9ybwLoL2sobv"
      }
    },
    {
      "cell_type": "code",
      "source": [
        "print(hello - 2)"
      ],
      "metadata": {
        "id": "8AGP0kzYY-1s",
        "colab": {
          "base_uri": "https://localhost:8080/",
          "height": 171
        },
        "outputId": "84f93d7f-cd42-4daa-afcd-4e86418fdd3e"
      },
      "execution_count": null,
      "outputs": [
        {
          "output_type": "error",
          "ename": "TypeError",
          "evalue": "ignored",
          "traceback": [
            "\u001b[0;31m---------------------------------------------------------------------------\u001b[0m",
            "\u001b[0;31mTypeError\u001b[0m                                 Traceback (most recent call last)",
            "\u001b[0;32m<ipython-input-28-2f57ad39f57b>\u001b[0m in \u001b[0;36m<cell line: 1>\u001b[0;34m()\u001b[0m\n\u001b[0;32m----> 1\u001b[0;31m \u001b[0mprint\u001b[0m\u001b[0;34m(\u001b[0m\u001b[0mhello\u001b[0m \u001b[0;34m-\u001b[0m \u001b[0;36m2\u001b[0m\u001b[0;34m)\u001b[0m\u001b[0;34m\u001b[0m\u001b[0;34m\u001b[0m\u001b[0m\n\u001b[0m",
            "\u001b[0;31mTypeError\u001b[0m: unsupported operand type(s) for -: 'str' and 'int'"
          ]
        }
      ]
    },
    {
      "cell_type": "markdown",
      "source": [
        "One neat part about the print function is that we can print out many objects at a time by putting a comma between the objects. For example, the cell below prints out the value of the variable **x** along with some text that explains what the number means."
      ],
      "metadata": {
        "id": "0CneHHJWs3Et"
      }
    },
    {
      "cell_type": "code",
      "source": [
        "print('This is the value of x: ', x)"
      ],
      "metadata": {
        "id": "wWSQZxPrhDeH",
        "colab": {
          "base_uri": "https://localhost:8080/"
        },
        "outputId": "3d2f6402-f110-485d-d6e3-61d4f0eafe4a"
      },
      "execution_count": null,
      "outputs": [
        {
          "output_type": "stream",
          "name": "stdout",
          "text": [
            "This is the value of x:  4\n"
          ]
        }
      ]
    },
    {
      "cell_type": "markdown",
      "source": [
        "Exercise 1"
      ],
      "metadata": {
        "id": "m67yqVkgtYr2"
      }
    },
    {
      "cell_type": "markdown",
      "source": [
        "Write a line of code that prints out \"My name is ...\" where you replace the ... with your name."
      ],
      "metadata": {
        "id": "Mhw3iX4itbB_"
      }
    },
    {
      "cell_type": "code",
      "source": [
        "print(\"My name is Ethan Wen\")"
      ],
      "metadata": {
        "id": "7N3NnMDbZaMw",
        "colab": {
          "base_uri": "https://localhost:8080/"
        },
        "outputId": "e8f45e25-b4f4-4193-8a8c-ae98a5ee0f4f"
      },
      "execution_count": null,
      "outputs": [
        {
          "output_type": "stream",
          "name": "stdout",
          "text": [
            "My name is Ethan Wen\n"
          ]
        }
      ]
    },
    {
      "cell_type": "markdown",
      "source": [
        "Excercise 2"
      ],
      "metadata": {
        "id": "EhpGXb4Ot_Hh"
      }
    },
    {
      "cell_type": "markdown",
      "source": [
        "Write five lines of code that each print out the addition(+), subtraction(-), multiplication(\\*), division(/), and exponentiation(***) of two numbers. Include at least one number with a decimal point and at least one negative number."
      ],
      "metadata": {
        "id": "oB6lpxyFuAyi"
      }
    },
    {
      "cell_type": "code",
      "source": [
        "print(1+1.5)\n",
        "print(1-13)\n",
        "print(1*-1)\n",
        "print(1/1)\n",
        "print(1**1)"
      ],
      "metadata": {
        "id": "Kohr_WE5fmTy",
        "colab": {
          "base_uri": "https://localhost:8080/"
        },
        "outputId": "ad1f9818-0fb2-4cb3-8d40-225425eba685"
      },
      "execution_count": null,
      "outputs": [
        {
          "output_type": "stream",
          "name": "stdout",
          "text": [
            "2.5\n",
            "-12\n",
            "-1\n",
            "1.0\n",
            "1\n"
          ]
        }
      ]
    },
    {
      "cell_type": "markdown",
      "source": [
        "Exercise 3"
      ],
      "metadata": {
        "id": "s7TNE7YdvHkj"
      }
    },
    {
      "cell_type": "markdown",
      "source": [
        "Write two lines of code that prints out the result of 5 * (2 + 3) \\*\\* 2 and 5 \\* 2 + 3 \\*\\* 2. Does Python follow the standard order of operations?"
      ],
      "metadata": {
        "id": "PCeCNJc6TB5w"
      }
    },
    {
      "cell_type": "code",
      "source": [
        "print(5*(2+3)**2)\n",
        "print(5*2+3**2)"
      ],
      "metadata": {
        "id": "92SFGQglTAJ4",
        "colab": {
          "base_uri": "https://localhost:8080/"
        },
        "outputId": "1683b1ff-ecb5-443d-c74b-7452036be7f5"
      },
      "execution_count": null,
      "outputs": [
        {
          "output_type": "stream",
          "name": "stdout",
          "text": [
            "125\n",
            "19\n"
          ]
        }
      ]
    },
    {
      "cell_type": "markdown",
      "source": [
        "Exercise 4"
      ],
      "metadata": {
        "id": "5ImFdL5eTkDM"
      }
    },
    {
      "cell_type": "markdown",
      "source": [
        "Write a line of code that prints out the addition(+) of two strings. Do you think the other operators(-,\\*,...) also work on strings? Try it out."
      ],
      "metadata": {
        "id": "X9QEiqFcvcIn"
      }
    },
    {
      "cell_type": "code",
      "source": [
        "print(\"I love \" + \" to code!\")"
      ],
      "metadata": {
        "id": "d8eqmaevvFL5",
        "colab": {
          "base_uri": "https://localhost:8080/"
        },
        "outputId": "7c05c12f-3497-4f4a-bcbc-a54a89db45ae"
      },
      "execution_count": null,
      "outputs": [
        {
          "output_type": "stream",
          "name": "stdout",
          "text": [
            "I love  to code!\n"
          ]
        }
      ]
    },
    {
      "cell_type": "markdown",
      "source": [
        "# Functions"
      ],
      "metadata": {
        "id": "0FxZwIvspoft"
      }
    },
    {
      "cell_type": "markdown",
      "source": [
        "We have already encountered the print function. It takes one or more arguments and prints them to the screen. Functions themselves take zero or more arguments and then return zero or more values. For example, we can define a function that takes no arguments and just executes a print statement."
      ],
      "metadata": {
        "id": "DwxtyUtJ8p4w"
      }
    },
    {
      "cell_type": "code",
      "execution_count": null,
      "metadata": {
        "id": "A3EaBccYd2Eb"
      },
      "outputs": [],
      "source": [
        "def myFirstFunction():\n",
        "  print('You called my function')"
      ]
    },
    {
      "cell_type": "markdown",
      "source": [
        "This on its own is useful because you may have to print out the same statement many times in your code. Instead of writing the same print statement each time, we can call the function. Then if we want to change what is printed, we only have to change one line."
      ],
      "metadata": {
        "id": "-AsvHi-89NQY"
      }
    },
    {
      "cell_type": "markdown",
      "source": [
        "We can call our function just like we call the print function."
      ],
      "metadata": {
        "id": "_6hcSraD9qJb"
      }
    },
    {
      "cell_type": "code",
      "source": [
        "myFirstFunction()"
      ],
      "metadata": {
        "id": "gknWiEnzeRy0",
        "colab": {
          "base_uri": "https://localhost:8080/"
        },
        "outputId": "3265f295-e3be-4c27-9b4e-8ebc37b6f6bc"
      },
      "execution_count": null,
      "outputs": [
        {
          "output_type": "stream",
          "name": "stdout",
          "text": [
            "You called my function\n"
          ]
        }
      ]
    },
    {
      "cell_type": "markdown",
      "source": [
        "If we try giving it an argument, we will get an error."
      ],
      "metadata": {
        "id": "FOuCqpjm9uvq"
      }
    },
    {
      "cell_type": "code",
      "source": [
        "myFirstFunction(2)"
      ],
      "metadata": {
        "id": "rOMlHp739yJ0",
        "colab": {
          "base_uri": "https://localhost:8080/",
          "height": 171
        },
        "outputId": "50eb5921-d86b-429a-e207-9509819f93d7"
      },
      "execution_count": null,
      "outputs": [
        {
          "output_type": "error",
          "ename": "TypeError",
          "evalue": "ignored",
          "traceback": [
            "\u001b[0;31m---------------------------------------------------------------------------\u001b[0m",
            "\u001b[0;31mTypeError\u001b[0m                                 Traceback (most recent call last)",
            "\u001b[0;32m<ipython-input-17-7942a70ef740>\u001b[0m in \u001b[0;36m<cell line: 1>\u001b[0;34m()\u001b[0m\n\u001b[0;32m----> 1\u001b[0;31m \u001b[0mmyFirstFunction\u001b[0m\u001b[0;34m(\u001b[0m\u001b[0;36m2\u001b[0m\u001b[0;34m)\u001b[0m\u001b[0;34m\u001b[0m\u001b[0;34m\u001b[0m\u001b[0m\n\u001b[0m",
            "\u001b[0;31mTypeError\u001b[0m: myFirstFunction() takes 0 positional arguments but 1 was given"
          ]
        }
      ]
    },
    {
      "cell_type": "markdown",
      "source": [
        "Now, how will functions interact with variables? Try to guess what the second code block below will print out."
      ],
      "metadata": {
        "id": "flpp3Xf-94BU"
      }
    },
    {
      "cell_type": "code",
      "source": [
        "def mySecondFunction():\n",
        "  x = 3\n",
        "  print(x)"
      ],
      "metadata": {
        "id": "JFrj8cdxeTpz"
      },
      "execution_count": null,
      "outputs": []
    },
    {
      "cell_type": "code",
      "source": [
        "x = 1\n",
        "mySecondFunction()\n",
        "print(x)"
      ],
      "metadata": {
        "id": "qkiZYtdkekBE",
        "colab": {
          "base_uri": "https://localhost:8080/"
        },
        "outputId": "4b822aa8-8d9f-4427-bc59-d76391cdd465"
      },
      "execution_count": null,
      "outputs": [
        {
          "output_type": "stream",
          "name": "stdout",
          "text": [
            "3\n",
            "1\n"
          ]
        }
      ]
    },
    {
      "cell_type": "markdown",
      "source": [
        "Functions have their own scope. Scope means they care first about code inside them, and overlapping code outside of them has no effect. So in the case above, there is one variable *x* defined outside the function and another variable *x* defined inside the function that is completely separate from the other *x*. The function uses the variable *x* defined *inside* the function."
      ],
      "metadata": {
        "id": "ZGnskL9D-HGB"
      }
    },
    {
      "cell_type": "code",
      "source": [
        "x = 1\n",
        "def mySecondFunction_no_variable():\n",
        "  print(x)\n",
        "mySecondFunction_no_variable()"
      ],
      "metadata": {
        "colab": {
          "base_uri": "https://localhost:8080/"
        },
        "id": "SiH1G5vEkjqd",
        "outputId": "018de584-2e84-4abd-c836-231187e30a06"
      },
      "execution_count": null,
      "outputs": [
        {
          "output_type": "stream",
          "name": "stdout",
          "text": [
            "1\n"
          ]
        }
      ]
    },
    {
      "cell_type": "markdown",
      "source": [
        "However, in this second case, the function will search for any variable *x* within the code, since *x* is not defined inside of the function. If there is an existing variable *x* that has already been defined, it will use this variable. Note that this is generally considered to be bad practice. This makes the code more difficult to read and understand, since the variable *x* could have been defined anywhere in the code. (If this section doesn't make sense, ask an instructor! Understanding scope will save you a lot of debugging in the future.)"
      ],
      "metadata": {
        "id": "ZA13RbWqk7P7"
      }
    },
    {
      "cell_type": "markdown",
      "source": [
        "Functions can also return values using a return statement."
      ],
      "metadata": {
        "id": "1-JVjd6P-iYU"
      }
    },
    {
      "cell_type": "code",
      "source": [
        "def thisFunctionReturnsFive():\n",
        "  return 5"
      ],
      "metadata": {
        "id": "NRnyhdoZeryD"
      },
      "execution_count": null,
      "outputs": []
    },
    {
      "cell_type": "markdown",
      "source": [
        "Calling the function on its own won't have any effect. (Alright I lied a bit. Python notebooks like Google Colab print whatever the last line of code outputs, so it would actually print 5. However, if you run python not in a notebook, the 5 would be lost and not printed. We can supress the printing of the last line in notebooks by using a semicolon)"
      ],
      "metadata": {
        "id": "lu2HbF05-nCD"
      }
    },
    {
      "cell_type": "code",
      "source": [
        "thisFunctionReturnsFive();"
      ],
      "metadata": {
        "id": "YGNZJ5-Fe3A2"
      },
      "execution_count": null,
      "outputs": []
    },
    {
      "cell_type": "markdown",
      "source": [
        "If we want to print the value returned by the function, we can use the print statement and pass the value returned by our function to the print function."
      ],
      "metadata": {
        "id": "Eb0nHr65_P3b"
      }
    },
    {
      "cell_type": "code",
      "source": [
        "print(thisFunctionReturnsFive())"
      ],
      "metadata": {
        "id": "f6kKysrBe5PQ",
        "colab": {
          "base_uri": "https://localhost:8080/"
        },
        "outputId": "f3b6c7b8-7e60-4198-c659-81ac7281aa6a"
      },
      "execution_count": null,
      "outputs": [
        {
          "output_type": "stream",
          "name": "stdout",
          "text": [
            "5\n"
          ]
        }
      ]
    },
    {
      "cell_type": "markdown",
      "source": [
        "To add parameters (a name for arguments when you are defining a function) to our function, you add variable names separated by commas inside the parentheses."
      ],
      "metadata": {
        "id": "o-y1i0FO_Zon"
      }
    },
    {
      "cell_type": "code",
      "source": [
        "def add(x, y):\n",
        "  return x + y"
      ],
      "metadata": {
        "id": "mcuUFNHEfudb"
      },
      "execution_count": null,
      "outputs": []
    },
    {
      "cell_type": "markdown",
      "source": [
        "And now we have a function that adds two values and returns the result."
      ],
      "metadata": {
        "id": "raTUPaCg_rYy"
      }
    },
    {
      "cell_type": "code",
      "source": [
        "print(add(1, 8))"
      ],
      "metadata": {
        "id": "MWy-smmkgTKH",
        "colab": {
          "base_uri": "https://localhost:8080/"
        },
        "outputId": "d3f079c0-3953-4cc6-a8b5-aaf9e5903ef4"
      },
      "execution_count": null,
      "outputs": [
        {
          "output_type": "stream",
          "name": "stdout",
          "text": [
            "9\n"
          ]
        }
      ]
    },
    {
      "cell_type": "markdown",
      "source": [
        "To further emphasize the scope of functions, check out the example below. The parameter *x* has no effect on the variable x outside of the function."
      ],
      "metadata": {
        "id": "ZJpckKFG_y_D"
      }
    },
    {
      "cell_type": "code",
      "source": [
        "def add(x, y):\n",
        "  sum = x + y\n",
        "  x = 'This variable assignment will not persist'\n",
        "  return sum"
      ],
      "metadata": {
        "id": "hayifXhcgWxA"
      },
      "execution_count": null,
      "outputs": []
    },
    {
      "cell_type": "code",
      "source": [
        "a = 3\n",
        "b = 6\n",
        "x = 2\n",
        "print(add(a, b))\n",
        "print(x)\n",
        "print(add(x, a))\n",
        "print(x)"
      ],
      "metadata": {
        "id": "ysHcX7npgvbE",
        "colab": {
          "base_uri": "https://localhost:8080/"
        },
        "outputId": "a6c4c75f-6ee4-4033-94af-148090e613a5"
      },
      "execution_count": null,
      "outputs": [
        {
          "output_type": "stream",
          "name": "stdout",
          "text": [
            "9\n",
            "2\n",
            "5\n",
            "2\n"
          ]
        }
      ]
    },
    {
      "cell_type": "markdown",
      "source": [
        "We will now discuss if statements and booleans. Booleans are variables that can only hold a value of either \"True\" or \"False.\" Booleans can be used as conditions for if statements, which decide whether or not a certain block of code is executed."
      ],
      "metadata": {
        "id": "kH4jvibJpvu6"
      }
    },
    {
      "cell_type": "code",
      "source": [
        "my_bool = True\n",
        "if my_bool:\n",
        "  print('my_bool is True!')"
      ],
      "metadata": {
        "colab": {
          "base_uri": "https://localhost:8080/"
        },
        "id": "l3z4oSIQrjbH",
        "outputId": "4b861bc8-61f1-42b1-8f7d-2fc3ba6b3a6b"
      },
      "execution_count": null,
      "outputs": [
        {
          "output_type": "stream",
          "name": "stdout",
          "text": [
            "my_bool is True!\n"
          ]
        }
      ]
    },
    {
      "cell_type": "markdown",
      "source": [
        "So in this case, since the my_bool variable is set to \"True,\" the code inside of the if block executes. What happens if we set the value to False?\n",
        "\n",
        "We can also set booleans using numerical criteria."
      ],
      "metadata": {
        "id": "fa3urRuQrt97"
      }
    },
    {
      "cell_type": "code",
      "source": [
        "x = 5\n",
        "\n",
        "is_x_gtr_10 = x > 10\n",
        "print('X is greater than 10? ', is_x_gtr_10)\n",
        "\n",
        "is_x_less_10 = x < 10\n",
        "print('X is less than 10? ', is_x_less_10)"
      ],
      "metadata": {
        "colab": {
          "base_uri": "https://localhost:8080/"
        },
        "id": "TqNJuICivmFL",
        "outputId": "cdcb6659-454d-4e06-c9c1-78b398dbd3fa"
      },
      "execution_count": null,
      "outputs": [
        {
          "output_type": "stream",
          "name": "stdout",
          "text": [
            "X is greater than 10?  False\n",
            "X is less than 10?  True\n"
          ]
        }
      ]
    },
    {
      "cell_type": "markdown",
      "source": [
        "If statements can also be complemented by \"else\" statements. If the if statement evaluates to false, then the code inside of the else block is executed."
      ],
      "metadata": {
        "id": "49Mb7btFvfU-"
      }
    },
    {
      "cell_type": "code",
      "source": [
        "my_bool_F = False\n",
        "if my_bool_F:\n",
        "  print('this will print if True!')\n",
        "else:\n",
        "  print('this prints since the if statement evaluated False')"
      ],
      "metadata": {
        "colab": {
          "base_uri": "https://localhost:8080/"
        },
        "id": "XKS0ul0Tr7u-",
        "outputId": "86ec1c32-9423-4a39-e6db-f8ccdc39f7f8"
      },
      "execution_count": null,
      "outputs": [
        {
          "output_type": "stream",
          "name": "stdout",
          "text": [
            "this prints since the if statement evaluated False\n"
          ]
        }
      ]
    },
    {
      "cell_type": "markdown",
      "source": [
        "Finally, there is a third option between \"if\" and \"else\" called \"elif.\" Elif can be used in the case where you want to have multiple exclusive if conditions.Try changing the values of x and y in the code below to see how you can get the different blocks of code to execute."
      ],
      "metadata": {
        "id": "JC95MmPzuz4r"
      }
    },
    {
      "cell_type": "code",
      "source": [
        "x = 2\n",
        "y = 3\n",
        "\n",
        "if x + y >= 10:\n",
        "  print('sum is greater than or equal to ten')\n",
        "elif x + y >= 5:\n",
        "  print('sum is at least five, but less than ten')\n",
        "else:\n",
        "  print('sum is less than five')"
      ],
      "metadata": {
        "colab": {
          "base_uri": "https://localhost:8080/"
        },
        "id": "6SceyDLHvXCS",
        "outputId": "a28f1a6b-b08c-4e89-b7c8-17cf4f10861e"
      },
      "execution_count": null,
      "outputs": [
        {
          "output_type": "stream",
          "name": "stdout",
          "text": [
            "sum is at least five, but less than ten\n"
          ]
        }
      ]
    },
    {
      "cell_type": "markdown",
      "source": [
        "**Exercises**"
      ],
      "metadata": {
        "id": "tVPeLaVEAeHD"
      }
    },
    {
      "cell_type": "markdown",
      "source": [
        "Exercise 1"
      ],
      "metadata": {
        "id": "jylVz-6bAf4p"
      }
    },
    {
      "cell_type": "markdown",
      "source": [
        "Write a function that takes in two numbers and return the product of the two numbers."
      ],
      "metadata": {
        "id": "KCXStsFyAg_Q"
      }
    },
    {
      "cell_type": "code",
      "source": [
        "def prod(x, y):\n",
        "    return x*y"
      ],
      "metadata": {
        "id": "HACChqs5g5X0"
      },
      "execution_count": null,
      "outputs": []
    },
    {
      "cell_type": "markdown",
      "source": [
        "Exercise 2"
      ],
      "metadata": {
        "id": "KEmuy3K1As5y"
      }
    },
    {
      "cell_type": "markdown",
      "source": [
        "Write a function that takes a number and prints out if it is positive, negative, or zero."
      ],
      "metadata": {
        "id": "hs7tzW8DAusM"
      }
    },
    {
      "cell_type": "code",
      "source": [
        "def sign(x):\n",
        "  if (x > 0):\n",
        "    state = \"positive\"\n",
        "  elif (x == 0):\n",
        "    state = \"zero\"\n",
        "  elif (x < 0):\n",
        "    state = \"negative\"\n",
        "  return state"
      ],
      "metadata": {
        "id": "nabmTyTrAuNH"
      },
      "execution_count": null,
      "outputs": []
    },
    {
      "cell_type": "markdown",
      "source": [
        "Exercise 3"
      ],
      "metadata": {
        "id": "a3nM1qDkB2l0"
      }
    },
    {
      "cell_type": "markdown",
      "source": [
        "Write a function that takes three numbers and returns the value of the following formula $a * b^x + b * a^x$\n",
        "\n",
        "\n"
      ],
      "metadata": {
        "id": "730jXuBvB4IL"
      }
    },
    {
      "cell_type": "code",
      "source": [
        "def superExponents (a, b, x):\n",
        "  return (a * (b**x)) + (b * (a**x))"
      ],
      "metadata": {
        "id": "VAWjU9YKB3k5"
      },
      "execution_count": null,
      "outputs": []
    },
    {
      "cell_type": "markdown",
      "source": [
        "Exercise 4"
      ],
      "metadata": {
        "id": "H4Qu6wdjDPpx"
      }
    },
    {
      "cell_type": "markdown",
      "source": [
        "Write five functions. One function is called *simple_calculator* and takes a string and two numbers. The string is one of \"add\", \"sub\", \"mul\", \"div\". Write four other functions that add, subtract, multiply, and divide two numbers. Then, depending on the string, have *simple_calculator* call the appropriate function and return the result."
      ],
      "metadata": {
        "id": "Eo7spCxLDR8o"
      }
    },
    {
      "cell_type": "code",
      "source": [
        "def add(a, b):\n",
        "  return a + b\n",
        "\n",
        "def sub(a, b):\n",
        "  return a - b\n",
        "\n",
        "def mult(a, b):\n",
        "  return a * b\n",
        "\n",
        "def div(a, b):\n",
        "  return a/b\n",
        "\n",
        "def simple_calculator(str, a, b):\n",
        "  if (str == \"add\"):\n",
        "    return add(a, b)\n",
        "  elif (str == \"sub\"):\n",
        "    return sub(a, b)\n",
        "  elif (str == \"mul\"):\n",
        "    return mult(a, b)\n",
        "  elif (str == \"div\"):\n",
        "    return div(a, b)"
      ],
      "metadata": {
        "id": "u5ncqo9vqqpn"
      },
      "execution_count": null,
      "outputs": []
    },
    {
      "cell_type": "markdown",
      "source": [
        "# Making plots\n",
        "To make plots in Python, we want to import a library called Matplotlib."
      ],
      "metadata": {
        "id": "ww8vfbQDqrC1"
      }
    },
    {
      "cell_type": "code",
      "source": [
        "#this is called a comment\n",
        "#it doesn't affect the code at all, but let's us write helpful information to describe our code\n",
        "\n",
        "#the following line imports the plotting library we want and names it \"plt\"\n",
        "import matplotlib.pyplot as plt\n",
        "\n",
        "#this next line is a python magic function which makes our plots print inside the notebook\n",
        "%matplotlib inline"
      ],
      "metadata": {
        "id": "sHVWSyCeqyzF"
      },
      "execution_count": null,
      "outputs": []
    },
    {
      "cell_type": "markdown",
      "source": [
        "Let's try our a simple plot."
      ],
      "metadata": {
        "id": "C_B78WsWsZLN"
      }
    },
    {
      "cell_type": "code",
      "source": [
        "#Let's define some x and y-coordinates:\n",
        "x= [1,2,3]\n",
        "y= [1,2,3]\n",
        "\n",
        "#plotting to our canvas\n",
        "plt.plot(x,y)\n",
        "\n",
        "#showing what we plotted\n",
        "plt.show()"
      ],
      "metadata": {
        "id": "izgxp8AbsW4-",
        "colab": {
          "base_uri": "https://localhost:8080/",
          "height": 430
        },
        "outputId": "0ed0e1d0-5c1a-4660-8326-0a47be07aef4"
      },
      "execution_count": null,
      "outputs": [
        {
          "output_type": "display_data",
          "data": {
            "text/plain": [
              "<Figure size 640x480 with 1 Axes>"
            ],
            "image/png": "[encoded data removed]"
          },
          "metadata": {}
        }
      ]
    },
    {
      "cell_type": "markdown",
      "source": [
        "Now let's add a title and labels."
      ],
      "metadata": {
        "id": "0moSSR0ysP7F"
      }
    },
    {
      "cell_type": "code",
      "source": [
        "#Try some different x and y-coordinates:\n",
        "x= [3,5,7,16]\n",
        "y= [2,13,5,4]\n",
        "\n",
        "plt.plot(x,y)\n",
        "\n",
        "plt.title('Funny Numbers')\n",
        "plt.xlabel('my sleep')\n",
        "plt.ylabel('how much work i get done')\n",
        "\n",
        "plt.show()"
      ],
      "metadata": {
        "id": "cMZmGslltRPF",
        "colab": {
          "base_uri": "https://localhost:8080/",
          "height": 472
        },
        "outputId": "c2f03a0b-8d45-42a7-ac70-f556aeebeee6"
      },
      "execution_count": null,
      "outputs": [
        {
          "output_type": "display_data",
          "data": {
            "text/plain": [
              "<Figure size 640x480 with 1 Axes>"
            ],
            "image/png": "[encoded data removed]"
          },
          "metadata": {}
        }
      ]
    },
    {
      "cell_type": "markdown",
      "source": [
        "We can also plot more than one line at the same time."
      ],
      "metadata": {
        "id": "s-KglT_puJem"
      }
    },
    {
      "cell_type": "code",
      "source": [
        "#one set of domain values\n",
        "x= [3,5,7,8]\n",
        "\n",
        "#first set of range values\n",
        "y1= [2,1,5,4]\n",
        "y2= [5,2,4,3]\n",
        "\n",
        "# plt.plot(x,y1,color='r')\n",
        "# plt.plot(x,y2,color='b')\n",
        "\n",
        "#try commenting out the plotting commands above and replacing them with the following:\n",
        "plt.plot(x,y1,color='r',label='y1 data')\n",
        "plt.plot(x,y2,color='b',label='y2 data')\n",
        "plt.legend()\n",
        "\n",
        "plt.title('Title')\n",
        "plt.xlabel('x-axis')\n",
        "plt.ylabel('y-axis')\n",
        "\n",
        "plt.show()"
      ],
      "metadata": {
        "id": "WUwiqdOSudaZ",
        "colab": {
          "base_uri": "https://localhost:8080/",
          "height": 472
        },
        "outputId": "fe389831-5092-4045-eab9-5a3392f1e9a9"
      },
      "execution_count": null,
      "outputs": [
        {
          "output_type": "display_data",
          "data": {
            "text/plain": [
              "<Figure size 640x480 with 1 Axes>"
            ],
            "image/png": "[encoded data removed]"
          },
          "metadata": {}
        }
      ]
    },
    {
      "cell_type": "markdown",
      "source": [
        "There are several different kinds of plots you can make: line graphs like the ones above will be important for this class, but we will also look at scatter plots."
      ],
      "metadata": {
        "id": "iALQIMp9vgZJ"
      }
    },
    {
      "cell_type": "code",
      "source": [
        "#our first scatter plot\n",
        "\n",
        "star_xcoord = [83, 90, 71, 80, 100, 87, 92, 99, 40, 34]\n",
        "star_ycoord = [70, 39, 15, 20, 17, 99, 12, 66, 87, 58]\n",
        "\n",
        "plt.scatter(star_xcoord,star_ycoord,color='magenta')\n",
        "plt.xlabel('star x coordinate')\n",
        "plt.ylabel('star y coordinate')\n",
        "plt.title('Star Positions')\n",
        "\n",
        "plt.grid() #makes a grid\n",
        "plt.show()"
      ],
      "metadata": {
        "id": "O7UqgUZdu8eT",
        "colab": {
          "base_uri": "https://localhost:8080/",
          "height": 472
        },
        "outputId": "fab24b0d-c24f-4086-cad6-204d1290cfc2"
      },
      "execution_count": null,
      "outputs": [
        {
          "output_type": "display_data",
          "data": {
            "text/plain": [
              "<Figure size 640x480 with 1 Axes>"
            ],
            "image/png": "[encoded data removed]"
          },
          "metadata": {}
        }
      ]
    },
    {
      "cell_type": "markdown",
      "source": [
        "For this class, there are two other libraries that we will want to import: NumPy and Pandas. Each are very powerful tools for data analysis and we'll explore them much more in the coming days."
      ],
      "metadata": {
        "id": "ujSK8egyyOav"
      }
    },
    {
      "cell_type": "code",
      "source": [
        "import numpy as np\n",
        "import pandas as pd"
      ],
      "metadata": {
        "id": "VmGCb8pSx5Ue"
      },
      "execution_count": null,
      "outputs": []
    },
    {
      "cell_type": "markdown",
      "source": [
        "A NumPy array is 50 times faster than a list in Python, and this can matter if you're working with a big data file (and astronomers/astrophysicists often are)."
      ],
      "metadata": {
        "id": "0vHpPY0T0jF_"
      }
    },
    {
      "cell_type": "code",
      "source": [
        "#To make a NumPy array, you call numpy by using the function \"np.array()\"\n",
        "arr = np.array([1,2,3,4,5])\n",
        "\n",
        "print(arr)\n",
        "print(type(arr))"
      ],
      "metadata": {
        "id": "B3-yCprZyZgX",
        "colab": {
          "base_uri": "https://localhost:8080/"
        },
        "outputId": "b1545f88-fff2-48b1-c0d5-5d74d8b3e57e"
      },
      "execution_count": null,
      "outputs": [
        {
          "output_type": "stream",
          "name": "stdout",
          "text": [
            "[1 2 3 4 5]\n",
            "<class 'numpy.ndarray'>\n"
          ]
        }
      ]
    },
    {
      "cell_type": "markdown",
      "source": [
        "You can also have nested arrays, or arrays with 2 (or more) dimensions"
      ],
      "metadata": {
        "id": "AX7S30201TeM"
      }
    },
    {
      "cell_type": "code",
      "source": [
        "oneD_array = np.array([1,2,3,4,5])\n",
        "twoD_array = np.array([[1,2,3,4,5], [6,7,8,9,10]])\n",
        "\n",
        "print(oneD_array)\n",
        "print(twoD_array)"
      ],
      "metadata": {
        "id": "Q_FsI3Ly1Ib-",
        "colab": {
          "base_uri": "https://localhost:8080/"
        },
        "outputId": "06e3e702-8524-4d89-cb62-bb56ea49a98b"
      },
      "execution_count": null,
      "outputs": [
        {
          "output_type": "stream",
          "name": "stdout",
          "text": [
            "[1 2 3 4 5]\n",
            "[[ 1  2  3  4  5]\n",
            " [ 6  7  8  9 10]]\n"
          ]
        }
      ]
    },
    {
      "cell_type": "markdown",
      "source": [
        "You can check the number of dimensions and the shape of a numpy array like so:"
      ],
      "metadata": {
        "id": "TIezgTRW2CmN"
      }
    },
    {
      "cell_type": "code",
      "source": [
        "xD_array = np.array([[[1, 2, 3], [4, 5, 6]], [[1, 2, 3], [4, 5, 6]]])\n",
        "\n",
        "#print the dimensions\n",
        "print(xD_array.ndim)\n",
        "\n",
        "#print the shape\n",
        "print(xD_array.shape)"
      ],
      "metadata": {
        "id": "2wfcdxzR1sgo",
        "colab": {
          "base_uri": "https://localhost:8080/"
        },
        "outputId": "e4e957e3-4c4b-4c48-b87c-49e97c5d53ba"
      },
      "execution_count": null,
      "outputs": [
        {
          "output_type": "stream",
          "name": "stdout",
          "text": [
            "3\n",
            "(2, 2, 3)\n"
          ]
        }
      ]
    },
    {
      "cell_type": "markdown",
      "source": [
        "# Indexing and slicing\n",
        "Let's say we want the first element in a one-dimensional array."
      ],
      "metadata": {
        "id": "vg8PeCAM26hC"
      }
    },
    {
      "cell_type": "code",
      "source": [
        "arr = np.array([1,2,3,4,5])\n",
        "\n",
        "#Python indexing starts at 0.\n",
        "print(arr[0])"
      ],
      "metadata": {
        "id": "av-Q5RFa2Tg7",
        "colab": {
          "base_uri": "https://localhost:8080/"
        },
        "outputId": "43af8b21-cc10-47c6-d13b-526907a3ce1e"
      },
      "execution_count": null,
      "outputs": [
        {
          "output_type": "stream",
          "name": "stdout",
          "text": [
            "1\n"
          ]
        }
      ]
    },
    {
      "cell_type": "markdown",
      "source": [
        "What about the last element?"
      ],
      "metadata": {
        "id": "Zqcuhvpx3R50"
      }
    },
    {
      "cell_type": "code",
      "source": [
        "#If we start at 0, what is the index of our last element?\n",
        "\n",
        "print(arr[4])"
      ],
      "metadata": {
        "id": "3wHGJJGP3Okq",
        "colab": {
          "base_uri": "https://localhost:8080/"
        },
        "outputId": "01a679b4-8163-4cb6-f625-35705067b169"
      },
      "execution_count": null,
      "outputs": [
        {
          "output_type": "stream",
          "name": "stdout",
          "text": [
            "5\n"
          ]
        }
      ]
    },
    {
      "cell_type": "markdown",
      "source": [
        "You can also do the above example another way using negative indexing:"
      ],
      "metadata": {
        "id": "uonmfSyd4997"
      }
    },
    {
      "cell_type": "code",
      "source": [
        "#negative indexing starts at the last element in your array and works backwards towards the first element\n",
        "\n",
        "print(arr[-1])\n",
        "\n",
        "print(arr[-2])"
      ],
      "metadata": {
        "id": "KkngU-4n5CPT",
        "colab": {
          "base_uri": "https://localhost:8080/"
        },
        "outputId": "8444079a-a45b-46a4-9d2b-b8a63844b219"
      },
      "execution_count": null,
      "outputs": [
        {
          "output_type": "stream",
          "name": "stdout",
          "text": [
            "5\n",
            "4\n"
          ]
        }
      ]
    },
    {
      "cell_type": "code",
      "source": [
        "#We can also do funky stuff like grab the 2nd and 4th elements of the array and add them\n",
        "\n",
        "print(arr[1] + arr[3])"
      ],
      "metadata": {
        "id": "QgIXxMuh3qB5",
        "colab": {
          "base_uri": "https://localhost:8080/"
        },
        "outputId": "6cd1f925-13de-4084-de97-6604b7c33369"
      },
      "execution_count": null,
      "outputs": [
        {
          "output_type": "stream",
          "name": "stdout",
          "text": [
            "6\n"
          ]
        }
      ]
    },
    {
      "cell_type": "markdown",
      "source": [
        "Indexing with a 2D array:"
      ],
      "metadata": {
        "id": "mTRfouVa4Aq_"
      }
    },
    {
      "cell_type": "code",
      "source": [
        "arr = np.array([[1,2,3,4,5], [6,7,8,9,10]])\n",
        "\n",
        "#What happens if we try to print the first element of this 2D array?\n",
        "\n",
        "print(arr[0])"
      ],
      "metadata": {
        "id": "c20Xj7G74FV4",
        "colab": {
          "base_uri": "https://localhost:8080/"
        },
        "outputId": "c9fbb9f9-c894-4a0f-d35d-12cad5b4033d"
      },
      "execution_count": null,
      "outputs": [
        {
          "output_type": "stream",
          "name": "stdout",
          "text": [
            "[1 2 3 4 5]\n"
          ]
        }
      ]
    },
    {
      "cell_type": "markdown",
      "source": [
        "The first element of that 2D array is a list, and so we print the whole list. What if we want the first element of that first list?"
      ],
      "metadata": {
        "id": "hkwYF9AH4VLM"
      }
    },
    {
      "cell_type": "code",
      "source": [
        "print(arr[0][0])"
      ],
      "metadata": {
        "id": "iOghOg0O4TmS",
        "colab": {
          "base_uri": "https://localhost:8080/"
        },
        "outputId": "46dcefa3-2f92-48ab-f135-71c9bea4b597"
      },
      "execution_count": null,
      "outputs": [
        {
          "output_type": "stream",
          "name": "stdout",
          "text": [
            "1\n"
          ]
        }
      ]
    },
    {
      "cell_type": "markdown",
      "source": [
        "What about the 3rd element of the 2nd list?"
      ],
      "metadata": {
        "id": "U9bPhNZL4ppG"
      }
    },
    {
      "cell_type": "code",
      "source": [
        "print(arr[1][2])"
      ],
      "metadata": {
        "id": "qTjjy_0h4iqV",
        "colab": {
          "base_uri": "https://localhost:8080/"
        },
        "outputId": "1f5a7135-5b34-41a4-f3b6-625e7b6c9c7f"
      },
      "execution_count": null,
      "outputs": [
        {
          "output_type": "stream",
          "name": "stdout",
          "text": [
            "8\n"
          ]
        }
      ]
    },
    {
      "cell_type": "markdown",
      "source": [
        "**Exercises**"
      ],
      "metadata": {
        "id": "mOKd34sG5mik"
      }
    },
    {
      "cell_type": "markdown",
      "source": [
        "Excercise 1"
      ],
      "metadata": {
        "id": "bdKQadNw5uVd"
      }
    },
    {
      "cell_type": "markdown",
      "source": [
        "Create a 2d numpy array with shape (2,10). You can fill it with an numbers you like."
      ],
      "metadata": {
        "id": "SdIHwxqb5vuv"
      }
    },
    {
      "cell_type": "code",
      "source": [
        "My_Array = np.array([[\"bananas\", 2, 3, 33, 5 , 45 , 7, 8, 9, 10], [10, 945, 8, 734, 56, 5, 34, 3, 2, 1]])\n",
        "\n",
        "My_Array.shape"
      ],
      "metadata": {
        "id": "P2mw6mii5o4x",
        "colab": {
          "base_uri": "https://localhost:8080/"
        },
        "outputId": "f0920fb0-43c4-4309-c1ac-45c2ba7e7d9b"
      },
      "execution_count": null,
      "outputs": [
        {
          "output_type": "execute_result",
          "data": {
            "text/plain": [
              "(2, 10)"
            ]
          },
          "metadata": {},
          "execution_count": 77
        }
      ]
    },
    {
      "cell_type": "markdown",
      "source": [
        "Excercise 2"
      ],
      "metadata": {
        "id": "jYKAXG1c6sCA"
      }
    },
    {
      "cell_type": "markdown",
      "source": [
        "Make a scatter plot of the first dimension of your 2D array versus the second dimension of your 2D array."
      ],
      "metadata": {
        "id": "_inLCdTs6tzk"
      }
    },
    {
      "cell_type": "code",
      "source": [
        "plt.scatter(My_Array[0], My_Array[1], color = \"blue\")"
      ],
      "metadata": {
        "id": "mngCt35d6X1A",
        "colab": {
          "base_uri": "https://localhost:8080/",
          "height": 448
        },
        "outputId": "926dafd7-3a7d-4c6c-f43c-372b5b547b1c"
      },
      "execution_count": null,
      "outputs": [
        {
          "output_type": "execute_result",
          "data": {
            "text/plain": [
              "<matplotlib.collections.PathCollection at 0x7f5eceba9000>"
            ]
          },
          "metadata": {},
          "execution_count": 78
        },
        {
          "output_type": "display_data",
          "data": {
            "text/plain": [
              "<Figure size 640x480 with 1 Axes>"
            ],
            "image/png": "[encoded data removed]"
          },
          "metadata": {}
        }
      ]
    },
    {
      "cell_type": "markdown",
      "source": [
        "Exercise 3"
      ],
      "metadata": {
        "id": "gsTHq9nA68Xy"
      }
    },
    {
      "cell_type": "markdown",
      "source": [
        "The following array has 5 elements with the value 3. Print each of these elements by calling their appropriate index."
      ],
      "metadata": {
        "id": "9Sj2G60B7cB5"
      }
    },
    {
      "cell_type": "code",
      "source": [
        "new_array = np.array([[[1, 2, 3], [4, 5, 6], [3, 9, 1]], [[1, 2, 3], [4, 3, 6], [3, 5, 6]]])\n",
        "\n",
        "print(new_array[0][0][2])\n",
        "print(new_array[0][2][0])\n",
        "print(new_array[1][0][2])\n",
        "print(new_array[1][1][1])\n",
        "print(new_array[1][2][0])"
      ],
      "metadata": {
        "id": "_Pg2uHVV7Wbs",
        "colab": {
          "base_uri": "https://localhost:8080/"
        },
        "outputId": "14680e4f-e5d3-4b90-8863-438693aceb48"
      },
      "execution_count": null,
      "outputs": [
        {
          "output_type": "stream",
          "name": "stdout",
          "text": [
            "3\n",
            "3\n",
            "3\n",
            "3\n",
            "3\n"
          ]
        }
      ]
    },
    {
      "cell_type": "markdown",
      "source": [
        "Excercise 4"
      ],
      "metadata": {
        "id": "NMMYE2AO7pAa"
      }
    },
    {
      "cell_type": "markdown",
      "source": [
        "Pick two sports teams you like and look up the number of wins that each team has as a function of the year for some 10 year period. Make one array that stores the years, the number of wins for team 1, and the number of wins for team 2.\n",
        "\n",
        "Once you have done this, make a single plot with a line graph for each team. Put the year on the x-axis and the number of wins on the y-axis. Make sure to label your axes, add a legend, and give a descriptive title to your plot."
      ],
      "metadata": {
        "id": "ueQfilpw8NlK"
      }
    },
    {
      "cell_type": "code",
      "source": [
        "tdata = np.array([\n",
        "    [1966, 1967, 1968, 1969, 1970, 1971, 1972, 1973, 1974, 1975],\n",
        "    [33, 29, 33, 39, 51, 57, 51, 54, 47, 24],\n",
        "    [41, 32, 34, 45, 49, 46, 42, 41, 37, 32]])\n",
        "\n",
        "plt.plot(tdata[0], tdata[1], color=\"red\", label=\"Chicago Bulls\")\n",
        "plt.plot(tdata[0], tdata[2], color=\"blue\", label=\"Chicago Blackhawks\")\n",
        "plt.xlabel(\"Year\")\n",
        "plt.ylabel(\"Number of Wins\")\n",
        "plt.legend()\n",
        "plt.title(\"Number of Wins for Chicago Bulls and Chicago Blackhawks\")"
      ],
      "metadata": {
        "id": "oClrdiGJ9aRV",
        "colab": {
          "base_uri": "https://localhost:8080/",
          "height": 490
        },
        "outputId": "6b79c6a9-6a98-4e72-d47a-c8886529e16d"
      },
      "execution_count": null,
      "outputs": [
        {
          "output_type": "execute_result",
          "data": {
            "text/plain": [
              "Text(0.5, 1.0, 'Number of Wins for Chicago Bulls and Chicago Blackhawks')"
            ]
          },
          "metadata": {},
          "execution_count": 5
        },
        {
          "output_type": "display_data",
          "data": {
            "text/plain": [
              "<Figure size 640x480 with 1 Axes>"
            ],
            "image/png": "[encoded data removed]"
          },
          "metadata": {}
        }
      ]
    }
  ]
}